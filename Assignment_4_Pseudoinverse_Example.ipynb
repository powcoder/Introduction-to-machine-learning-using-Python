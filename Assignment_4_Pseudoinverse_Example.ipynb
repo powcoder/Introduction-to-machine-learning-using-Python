{
  "nbformat": 4,
  "nbformat_minor": 0,
  "metadata": {
    "anaconda-cloud": {},
    "kernelspec": {
      "display_name": "Python 3",
      "language": "python",
      "name": "python3"
    },
    "language_info": {
      "codemirror_mode": {
        "name": "ipython",
        "version": 3
      },
      "file_extension": ".py",
      "mimetype": "text/x-python",
      "name": "python",
      "nbconvert_exporter": "python",
      "pygments_lexer": "ipython3",
      "version": "3.6.1"
    },
    "colab": {
      "name": "Assignment_4_Pseudoinverse_Example.ipynb",
      "provenance": [],
      "collapsed_sections": []
    }
  },
  "cells": [
    {
      "cell_type": "code",
      "metadata": {
        "id": "-eQaoH2TEZH9",
        "colab_type": "code",
        "colab": {}
      },
      "source": [
        "import numpy as np"
      ],
      "execution_count": 0,
      "outputs": []
    },
    {
      "cell_type": "markdown",
      "metadata": {
        "id": "KsnWEv8PEZIE",
        "colab_type": "text"
      },
      "source": [
        "# X"
      ]
    },
    {
      "cell_type": "code",
      "metadata": {
        "id": "HHRI2ZETEZIG",
        "colab_type": "code",
        "outputId": "29551b68-e745-4920-c06d-da8d75cf6fe4",
        "colab": {
          "base_uri": "https://localhost:8080/",
          "height": 102
        }
      },
      "source": [
        "X = np.array([\n",
        "              [1, 1, 4, 3],\n",
        "              [1, 2, 3, 7],\n",
        "              [1, 2, 4, 5],\n",
        "              [1, 4, 9, 6],\n",
        "              [1, 5, 6, 3]]\n",
        "             , float);\n",
        "print(X)"
      ],
      "execution_count": 2,
      "outputs": [
        {
          "output_type": "stream",
          "text": [
            "[[1. 1. 4. 3.]\n",
            " [1. 2. 3. 7.]\n",
            " [1. 2. 4. 5.]\n",
            " [1. 4. 9. 6.]\n",
            " [1. 5. 6. 3.]]\n"
          ],
          "name": "stdout"
        }
      ]
    },
    {
      "cell_type": "markdown",
      "metadata": {
        "id": "JnENZsBMEZIL",
        "colab_type": "text"
      },
      "source": [
        "Note that X is an array containing 4 feature vectors each of dimension 3."
      ]
    },
    {
      "cell_type": "code",
      "metadata": {
        "id": "m5f3qJWeyT2X",
        "colab_type": "code",
        "colab": {
          "base_uri": "https://localhost:8080/",
          "height": 34
        },
        "outputId": "303a97fd-1067-4ca8-843b-cd8a6d14b6ce"
      },
      "source": [
        "X.shape"
      ],
      "execution_count": 3,
      "outputs": [
        {
          "output_type": "execute_result",
          "data": {
            "text/plain": [
              "(5, 4)"
            ]
          },
          "metadata": {
            "tags": []
          },
          "execution_count": 3
        }
      ]
    },
    {
      "cell_type": "markdown",
      "metadata": {
        "id": "I14dmzRoEZIM",
        "colab_type": "text"
      },
      "source": [
        "# Pseudoinverse"
      ]
    },
    {
      "cell_type": "code",
      "metadata": {
        "id": "rBrUdv2uyHyZ",
        "colab_type": "code",
        "colab": {
          "base_uri": "https://localhost:8080/",
          "height": 85
        },
        "outputId": "f7052d11-4900-4dad-93cf-906fbacdc6e4"
      },
      "source": [
        "Xpinv = np.linalg.pinv(X);\n",
        "print(np.round(Xpinv, decimals=3))"
      ],
      "execution_count": 4,
      "outputs": [
        {
          "output_type": "stream",
          "text": [
            "[[ 1.335 -0.194  0.422 -1.023  0.46 ]\n",
            " [-0.269  0.098 -0.037 -0.106  0.314]\n",
            " [ 0.081 -0.146 -0.035  0.218 -0.118]\n",
            " [-0.167  0.183  0.013  0.08  -0.109]]\n"
          ],
          "name": "stdout"
        }
      ]
    },
    {
      "cell_type": "code",
      "metadata": {
        "id": "ZXQNpWU2yQEp",
        "colab_type": "code",
        "colab": {
          "base_uri": "https://localhost:8080/",
          "height": 34
        },
        "outputId": "0afc557a-b481-406f-f4a2-31b89b10ef7f"
      },
      "source": [
        "Xpinv.shape"
      ],
      "execution_count": 5,
      "outputs": [
        {
          "output_type": "execute_result",
          "data": {
            "text/plain": [
              "(4, 5)"
            ]
          },
          "metadata": {
            "tags": []
          },
          "execution_count": 5
        }
      ]
    },
    {
      "cell_type": "markdown",
      "metadata": {
        "id": "IJTcxrUnyiI3",
        "colab_type": "text"
      },
      "source": [
        "# Check"
      ]
    },
    {
      "cell_type": "code",
      "metadata": {
        "id": "YGgu43KLynCR",
        "colab_type": "code",
        "colab": {
          "base_uri": "https://localhost:8080/",
          "height": 85
        },
        "outputId": "0f7e9a0e-bdd7-4cf6-b9b1-36210eebb47c"
      },
      "source": [
        "print(np.round(np.dot(Xpinv, X), decimals=3))"
      ],
      "execution_count": 6,
      "outputs": [
        {
          "output_type": "stream",
          "text": [
            "[[ 1.  0.  0.  0.]\n",
            " [ 0.  1.  0.  0.]\n",
            " [-0. -0.  1. -0.]\n",
            " [-0. -0. -0.  1.]]\n"
          ],
          "name": "stdout"
        }
      ]
    },
    {
      "cell_type": "code",
      "metadata": {
        "id": "abxdFjHvyjZV",
        "colab_type": "code",
        "colab": {
          "base_uri": "https://localhost:8080/",
          "height": 102
        },
        "outputId": "a3ab106b-a925-4e50-a4d8-2e6af977b61f"
      },
      "source": [
        "print(np.round(np.dot(X, Xpinv), decimals=3))"
      ],
      "execution_count": 7,
      "outputs": [
        {
          "output_type": "stream",
          "text": [
            "[[ 0.888 -0.131  0.285 -0.015 -0.027]\n",
            " [-0.131  0.847  0.334 -0.018 -0.032]\n",
            " [ 0.285  0.334  0.274  0.039  0.069]\n",
            " [-0.015 -0.018  0.039  0.998 -0.004]\n",
            " [-0.027 -0.032  0.069 -0.004  0.993]]\n"
          ],
          "name": "stdout"
        }
      ]
    },
    {
      "cell_type": "markdown",
      "metadata": {
        "id": "EFAaSXVP0I6d",
        "colab_type": "text"
      },
      "source": [
        "Note that, although the above matrix is significantly different from the identity matrix, it is the best in terms of least-squares error."
      ]
    },
    {
      "cell_type": "code",
      "metadata": {
        "id": "cy7_1Rp5y5He",
        "colab_type": "code",
        "colab": {}
      },
      "source": [
        ""
      ],
      "execution_count": 0,
      "outputs": []
    }
  ]
}